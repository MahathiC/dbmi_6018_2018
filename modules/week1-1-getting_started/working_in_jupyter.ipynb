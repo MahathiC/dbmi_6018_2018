{
 "cells": [
  {
   "cell_type": "markdown",
   "metadata": {},
   "source": [
    "# Welcome to BMI 6018\n",
    "\n",
    "Welcome to the Fall 2018 Instantiation of BMI 6018: Programming for Biomedical Data Science. This course is intended as an intensive but useful (and fun!) introduction to programming in the context of biomedicine using the [Python](https://www.python.org/) programming language. In addition to covering basic programming principles, we will also introduce you to several high level tools that are particularly useful for data analysis."
   ]
  },
  {
   "cell_type": "markdown",
   "metadata": {},
   "source": [
    "## Our First Program"
   ]
  },
  {
   "cell_type": "code",
   "execution_count": null,
   "metadata": {},
   "outputs": [],
   "source": [
    "# Get name from the user\n",
    "name = input(\"What is your name?\\n\")\n",
    "\n",
    "# This uses string interpolation for the output\n",
    "print(\"We hope you enjoy the class, %s!\"%name)"
   ]
  },
  {
   "cell_type": "markdown",
   "metadata": {},
   "source": [
    "```JSON\n",
    "{\n",
    "   \"cell_type\": \"code\",\n",
    "   \"execution_count\": 1,\n",
    "   \"metadata\": {},\n",
    "   \"outputs\": [\n",
    "    {\n",
    "     \"name\": \"stdout\",\n",
    "     \"output_type\": \"stream\",\n",
    "     \"text\": [\n",
    "      \"What is your name?\\n\",\n",
    "      \"Brian\\n\",\n",
    "      \"We hope you enjoy the class, Brian!\\n\"\n",
    "     ]\n",
    "    }\n",
    "   ],\n",
    "   \"source\": [\n",
    "    \"# Get name from the user\\n\",\n",
    "    \"name = input(\\\"What is your name?\\\\n\\\")\\n\",\n",
    "    \"\\n\",\n",
    "    \"# This uses string interpolation for the output\\n\",\n",
    "    \"print(\\\"We hope you enjoy the class, %s!\\\"%name)\"\n",
    "   ]\n",
    "  },\n",
    "```"
   ]
  },
  {
   "cell_type": "code",
   "execution_count": null,
   "metadata": {},
   "outputs": [],
   "source": []
  }
 ],
 "metadata": {
  "kernelspec": {
   "display_name": "Python [default]",
   "language": "python",
   "name": "python3"
  },
  "language_info": {
   "codemirror_mode": {
    "name": "ipython",
    "version": 3
   },
   "file_extension": ".py",
   "mimetype": "text/x-python",
   "name": "python",
   "nbconvert_exporter": "python",
   "pygments_lexer": "ipython3",
   "version": "3.6.4"
  }
 },
 "nbformat": 4,
 "nbformat_minor": 2
}
