{
 "cells": [
  {
   "cell_type": "markdown",
   "metadata": {},
   "source": [
    "# Numerics in Python\n",
    "\n",
    "## Reading Materials\n",
    "\n",
    "* *Introduction to Computation and Programming with Python,* chapter 3.\n",
    "* *Elements of Mathematics,* Section 1.3, 1.4\n",
    "\n",
    "## Learning Objectives\n",
    "### At the completion of this module students will be able to\n",
    "1. Describe different kinds of numbers and their origins\n",
    "1. Perform basic manipulation of numbers in Python\n",
    "1. Describe how numbers are represented in computers and in Python\n",
    "1. Provide examples of categorical, ordinal, interval, and ratio biomedical data.\n",
    "\n",
    "## Class Prep\n",
    "\n",
    "* [Review of numbers](Numbers.ipynb)\n",
    "* [Numbers in Python](PythonBasicNumericTypes.ipynb)\n"
   ]
  },
  {
   "cell_type": "code",
   "execution_count": null,
   "metadata": {},
   "outputs": [],
   "source": []
  }
 ],
 "metadata": {
  "anaconda-cloud": {},
  "kernelspec": {
   "display_name": "Python [default]",
   "language": "python",
   "name": "python3"
  },
  "language_info": {
   "codemirror_mode": {
    "name": "ipython",
    "version": 3
   },
   "file_extension": ".py",
   "mimetype": "text/x-python",
   "name": "python",
   "nbconvert_exporter": "python",
   "pygments_lexer": "ipython3",
   "version": "3.6.4"
  },
  "toc": {
   "base_numbering": 1,
   "nav_menu": {},
   "number_sections": true,
   "sideBar": true,
   "skip_h1_title": false,
   "title_cell": "Table of Contents",
   "title_sidebar": "Contents",
   "toc_cell": false,
   "toc_position": {},
   "toc_section_display": true,
   "toc_window_display": false
  }
 },
 "nbformat": 4,
 "nbformat_minor": 1
}
