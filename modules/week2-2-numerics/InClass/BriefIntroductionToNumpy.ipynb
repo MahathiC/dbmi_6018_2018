{
 "cells": [
  {
   "cell_type": "markdown",
   "metadata": {},
   "source": [
    "## First Look at numpy"
   ]
  },
  {
   "cell_type": "markdown",
   "metadata": {},
   "source": [
    "Remember that every technology, including a programming language like Python, is developed to solve some set of preconceived problems. Scientific computing was not in the initial vision of the Python developers, consequently there was not developed within the native language an efficient way of representing large collections (arrays) of numbers. Nonetheless, early on people doing scientific computing decided that Python was a nice language to work with, so they started creating third-party packages (packages that have to be added to Python) to deal with arrays of numbers. In the 1990s and early 2000s there were two competing packages called *numeric* and *numarray*. Numpy, the current defacto package for numeric arrays is in some ways a merger of the two packages.\n",
    "\n",
    "\n",
    "*Numpy* will form the backbone of much of what we do in this class and will make more sense after we talk about collections and we will revisit *numpy* in more detail after introducing collections.\n",
    "\n",
    "We gain access to numpy by importing it into our program. It is common practice to *rename* numpy to np during the import and then to access the elements of the package via `np`.\n",
    "\n",
    "```Python\n",
    "import numpy as np\n",
    "\n",
    "np.zeros(5)\n",
    "```\n"
   ]
  },
  {
   "cell_type": "code",
   "execution_count": null,
   "metadata": {},
   "outputs": [],
   "source": [
    "import numpy as np"
   ]
  },
  {
   "cell_type": "markdown",
   "metadata": {},
   "source": [
    "Numpy arrays are collections of numbers that can be manipulated together efficiently. The arrays are characterized by a *type* and a *shape*.\n",
    "\n",
    "### Array types\n",
    "\n",
    "The type specifies what the underlying representation of the number is. Numpy types include the following integers:\n",
    "\n",
    "* uint8 (unsigned integer represented with 8 bits)\n",
    "* uint16 (unsigned integer represented with 16 bits)\n",
    "* uint32 (unsigned integer represented with 32 bits)\n",
    "* uint64 (unsigned integer represented with 64 bits)\n",
    "* int8 (unsigned integer represented with 8 bits)\n",
    "* int16 (unsigned integer represented with 16 bits)\n",
    "* int32 (unsigned integer represented with 32 bits)\n",
    "* int64 (unsigned integer represented with 64 bits)\n",
    "\n",
    "### What is up with all these different types?\n",
    "\n",
    "* Memory allocation\n",
    "    * If you have a very big array, memory constraints might come into play\n",
    "        * If I'm representing a very large set of MRI images where the dynamic range is only 0-255, using 64 bits to represent my images might be prohibitive.\n",
    "* Computational efficiency\n",
    "    * What size matches the underlying hardware? It is always most efficient computationally to use a numeric representation that matches the underlying architecture (usually 64 bit)\n",
    "* Maximum integer size\n",
    "\n",
    "\n",
    "#### What is the minimum and maximum integer that can be represented with an uint8 and an int8?\n",
    "    \n",
    "* `unint8`: Since this is unsigned, the values have to be non-negative; that means I don't have to use a bit to specify +/-. So I have $2^8=256$ bits I can use to represent numbers. Since my first number is $0$, the largest number is $255$.\n",
    "* `int8`: I have to use one bit to represent +/-, so I'm left with 7 bits to represent values. My most negative number is $-2^7$ and the most positive number is $2^7-1$ (the $-1$ accounts for $0$).\n"
   ]
  },
  {
   "cell_type": "code",
   "execution_count": null,
   "metadata": {},
   "outputs": [],
   "source": []
  },
  {
   "cell_type": "markdown",
   "metadata": {},
   "source": [
    "    \n",
    "### Example\n",
    "\n",
    "#### What will happen when we provide a value that exceeds the type domain?"
   ]
  },
  {
   "cell_type": "code",
   "execution_count": null,
   "metadata": {},
   "outputs": [],
   "source": [
    "a = np.array([-128,128],dtype=np.int8)\n",
    "print(a)\n",
    "b = np.array([81,258],dtype=np.uint8)\n",
    "print(b)"
   ]
  },
  {
   "cell_type": "markdown",
   "metadata": {},
   "source": [
    "#### Note this behavior can cause unexpected results\n",
    "\n",
    "\n",
    "### Floating Point Numbers\n",
    "\n",
    "#### Here are the floating point and complex array types\n",
    "\n",
    "Note `complex` types are built from `float` types.\n",
    "\n",
    "* float16\n",
    "* float32\n",
    "* float64\n",
    "* float128\n",
    "* complex64\n",
    "* complex128\n",
    "* complex256"
   ]
  },
  {
   "cell_type": "markdown",
   "metadata": {},
   "source": [
    "#### What would drive your selection of the different float or complex array sizes?"
   ]
  },
  {
   "cell_type": "markdown",
   "metadata": {},
   "source": [
    "Numpy arrays are also characterized by their *shape* and their number of dimensions (*ndim*)\n"
   ]
  },
  {
   "cell_type": "code",
   "execution_count": null,
   "metadata": {},
   "outputs": [],
   "source": [
    "print(b.ndim,b.shape)"
   ]
  },
  {
   "cell_type": "code",
   "execution_count": null,
   "metadata": {},
   "outputs": [],
   "source": [
    "c = np.array([[1,2],[3,4]])\n",
    "print(c.ndim,c.shape,c.dtype)\n",
    "print(c)\n",
    "d = np.arange(27).reshape((3,3,3))\n",
    "print(d.ndim,d.shape)\n",
    "print(d)"
   ]
  },
  {
   "cell_type": "markdown",
   "metadata": {},
   "source": [
    "#### Arrays can be added together, provided their shapes match, and also have operations applied element by element"
   ]
  },
  {
   "cell_type": "code",
   "execution_count": null,
   "metadata": {},
   "outputs": [],
   "source": [
    "print(d**2)\n",
    "print(d**2+d)\n",
    "print(d**2+c)"
   ]
  },
  {
   "cell_type": "markdown",
   "metadata": {},
   "source": [
    "There is a more detailed numpy tutorial avaialble as an IPython notebook [here](http://nbviewer.ipython.org/github/jrjohansson/scientific-python-lectures/blob/master/Lecture-2-Numpy.ipynb)."
   ]
  },
  {
   "cell_type": "code",
   "execution_count": null,
   "metadata": {},
   "outputs": [],
   "source": []
  }
 ],
 "metadata": {
  "kernelspec": {
   "display_name": "Python [default]",
   "language": "python",
   "name": "python3"
  },
  "language_info": {
   "codemirror_mode": {
    "name": "ipython",
    "version": 3
   },
   "file_extension": ".py",
   "mimetype": "text/x-python",
   "name": "python",
   "nbconvert_exporter": "python",
   "pygments_lexer": "ipython3",
   "version": "3.6.4"
  },
  "toc": {
   "base_numbering": 1,
   "nav_menu": {},
   "number_sections": true,
   "sideBar": true,
   "skip_h1_title": false,
   "title_cell": "Table of Contents",
   "title_sidebar": "Contents",
   "toc_cell": false,
   "toc_position": {},
   "toc_section_display": true,
   "toc_window_display": false
  }
 },
 "nbformat": 4,
 "nbformat_minor": 1
}
