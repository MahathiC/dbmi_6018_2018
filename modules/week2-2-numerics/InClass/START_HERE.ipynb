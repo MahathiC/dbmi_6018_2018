{
 "cells": [
  {
   "cell_type": "markdown",
   "metadata": {},
   "source": [
    "# In-class Notebooks\n",
    "\n",
    "\n",
    "* [Positional Numbers](positionalNumbers.ipynb)\n",
    "* [Introduction to Numpy](BriefIntroductionToNumpy)\n",
    "* [In-class exercises](NumericsInClass.ipynb)\n",
    "* [More in-class exercises](blood_pressure.ipynb)\n",
    "* [Even More in-class exercises](who_suffered_most.ipynb)"
   ]
  },
  {
   "cell_type": "code",
   "execution_count": null,
   "metadata": {},
   "outputs": [],
   "source": []
  }
 ],
 "metadata": {
  "kernelspec": {
   "display_name": "Python [default]",
   "language": "python",
   "name": "python3"
  },
  "language_info": {
   "codemirror_mode": {
    "name": "ipython",
    "version": 3
   },
   "file_extension": ".py",
   "mimetype": "text/x-python",
   "name": "python",
   "nbconvert_exporter": "python",
   "pygments_lexer": "ipython3",
   "version": "3.6.4"
  }
 },
 "nbformat": 4,
 "nbformat_minor": 2
}
