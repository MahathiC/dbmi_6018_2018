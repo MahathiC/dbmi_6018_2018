{
 "cells": [
  {
   "cell_type": "code",
   "execution_count": null,
   "metadata": {},
   "outputs": [],
   "source": [
    "from IPython.display import YouTubeVideo\n",
    "YouTubeVideo(\"bM1bU7GOOmo\", width = 800, height=600)"
   ]
  },
  {
   "cell_type": "markdown",
   "metadata": {},
   "source": [
    "## Infinity and Transitors\n",
    "\n",
    "All of these number systems are infinite. (An interesting aside is that the real numbers are more infinite than the integers, whereas the natural, rational, and integer nubmers all have the \"same\" infinity, an obseration first made by Cantor.)\n",
    "\n",
    "Computers represent numbers using bits which ultimately boil down to transitors. As numbers get larger and larger, you need to have more and more transitors (bits) to represent the number. Obviously there is an upper limit to how large a number can be represented, based on how many bits you want to allocate.\n",
    "\n",
    "The number of bits allocated for an integer is based on the underlying hardware. Most computers now have a 64 bit architecture"
   ]
  },
  {
   "cell_type": "code",
   "execution_count": null,
   "metadata": {},
   "outputs": [],
   "source": [
    "import sys\n",
    "print(sys.maxsize)\n"
   ]
  },
  {
   "cell_type": "markdown",
   "metadata": {},
   "source": [
    "My computer is 64 bits. Since one bit is reserved to represent the sign ($\\pm$) of the number, I have 63 bits to encode the number."
   ]
  },
  {
   "cell_type": "code",
   "execution_count": null,
   "metadata": {},
   "outputs": [],
   "source": [
    "2**63"
   ]
  },
  {
   "cell_type": "markdown",
   "metadata": {},
   "source": [
    "### Floating Point Numbers\n",
    "\n",
    "Representing approximations of real numbers via floating point types is more complex, but the issue is the same: we only have so many bits to allocate to represent the number. Consequently floating point numbers are inherently **approximations.**\n",
    "\n",
    "``sys.float_info`` contains information about the limits of floating point numbers.\n",
    "\n",
    "*  See [Floating Point Arithmetic: Issues and Limitations](http://docs.python.org/3/tutorial/floatingpoint.html)\n",
    "*  Also [The Perils of Floating Point](http://www.lahey.com/float.htm)"
   ]
  },
  {
   "cell_type": "code",
   "execution_count": null,
   "metadata": {},
   "outputs": [],
   "source": [
    "print(\"maximum float\",sys.float_info.max)\n",
    "print(\"minimum float\",sys.float_info.min)\n",
    "print(\"epislon\",sys.float_info.epsilon)\n"
   ]
  },
  {
   "cell_type": "markdown",
   "metadata": {},
   "source": [
    "### Epsilon ($\\epsilon$) is important\n",
    "\n",
    "The smallest discernable difference between two floating point numbers."
   ]
  },
  {
   "cell_type": "markdown",
   "metadata": {},
   "source": [
    "#### Note that minimum is a magnitude. You **can** have negative floats.\n",
    "\n",
    "#### epsilon is a key idea: it is the smallest difference between two numbers that can be detected"
   ]
  },
  {
   "cell_type": "code",
   "execution_count": null,
   "metadata": {},
   "outputs": [],
   "source": [
    "x = 0.0\n",
    "for i in range(10):\n",
    "    x = x + 0.1\n",
    "if x == 1.0:\n",
    "    print(x, '= 1.0')\n",
    "else:\n",
    "    print(x, '!= 1.0')"
   ]
  },
  {
   "cell_type": "code",
   "execution_count": null,
   "metadata": {},
   "outputs": [],
   "source": [
    "x2 = 0.1\n",
    "x3 = x2*10\n",
    "if x3 == 1.0:\n",
    "    print(x3, '= 1.0')\n",
    "else:\n",
    "    print(x3, '!= 1.0')"
   ]
  },
  {
   "cell_type": "code",
   "execution_count": null,
   "metadata": {},
   "outputs": [],
   "source": [
    "round(x,3)==1.0"
   ]
  },
  {
   "cell_type": "code",
   "execution_count": null,
   "metadata": {},
   "outputs": [],
   "source": [
    "x==1.0"
   ]
  },
  {
   "cell_type": "code",
   "execution_count": null,
   "metadata": {},
   "outputs": [],
   "source": []
  }
 ],
 "metadata": {
  "anaconda-cloud": {},
  "kernelspec": {
   "display_name": "Python 3",
   "language": "python",
   "name": "python3"
  },
  "language_info": {
   "codemirror_mode": {
    "name": "ipython",
    "version": 3
   },
   "file_extension": ".py",
   "mimetype": "text/x-python",
   "name": "python",
   "nbconvert_exporter": "python",
   "pygments_lexer": "ipython3",
   "version": "3.6.3"
  }
 },
 "nbformat": 4,
 "nbformat_minor": 1
}
