{
 "cells": [
  {
   "cell_type": "markdown",
   "metadata": {},
   "source": [
    "# The Language of Computing, Mathematics, and Medicine\n",
    "\n",
    "\n",
    "## Reading\n",
    "\n",
    "* *Introduction to Computation and Programming Using Python with Application to Understanding Data* Chapter 1\n",
    "* *Elements of Mathematics* Sections 1.1, 1.2, 1.8-1.10;\n",
    "* *Think Python: How to Think Like a Computer Scientist,* 2nd Edition section 1.6 \"Formal and natural languages\"\n",
    "\n",
    "## Learning Objectives\n",
    "\n",
    "\n",
    "This module has a quiz and a homework but no in-class component. What I hope to accomplish in this module is to get you thinking a little bit about how we use language and how every domain creates sub-languages. Programming and mathematics are both examples of sub-languages. When we start learning Python we will use words that are familiar with like `for` and `while` and `class` but within the sub-language of Python these words (symbols) will have different (but probably related) meaning to what they have in everyday use.\n",
    "\n",
    "\n",
    "Upon completing this module, students will be able to \n",
    "\n",
    "1. Describe the difference between formal and informal languages.\n",
    "1. \"Translate\" basic mathematical ideas from English to mathematical statements and vice versa.\n",
    "1. Use pseudocode and flowcharts to write/describe everyday activities\n",
    "1. Describe how language is used in medicine to create a subculture\n",
    "1. Precision.\n",
    "\n",
    "Review the following two notebooks prior to taking the quiz on Canvas.\n",
    "\n",
    "* [Language and Instructions](./langauge_instructions.ipynb)\n",
    "* [Signs](./signs_symbolism.ipynb)\n",
    "* [Language and Biomedical Informatics](./ClassPrep/language_and_informatics.ipynb)\n",
    "* [Mathematics and Informatics](./ClassPrep/mathematics_and_informatics.ipynb)\n",
    "\n",
    "\n",
    "## Group Activities"
   ]
  },
  {
   "cell_type": "code",
   "execution_count": null,
   "metadata": {},
   "outputs": [],
   "source": []
  }
 ],
 "metadata": {
  "kernelspec": {
   "display_name": "Python [default]",
   "language": "python",
   "name": "python3"
  },
  "language_info": {
   "codemirror_mode": {
    "name": "ipython",
    "version": 3
   },
   "file_extension": ".py",
   "mimetype": "text/x-python",
   "name": "python",
   "nbconvert_exporter": "python",
   "pygments_lexer": "ipython3",
   "version": "3.6.4"
  },
  "toc": {
   "base_numbering": 1,
   "nav_menu": {},
   "number_sections": true,
   "sideBar": true,
   "skip_h1_title": false,
   "title_cell": "Table of Contents",
   "title_sidebar": "Contents",
   "toc_cell": false,
   "toc_position": {},
   "toc_section_display": true,
   "toc_window_display": false
  }
 },
 "nbformat": 4,
 "nbformat_minor": 2
}
