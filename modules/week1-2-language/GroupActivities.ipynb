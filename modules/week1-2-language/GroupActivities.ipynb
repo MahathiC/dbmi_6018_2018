{
 "cells": [
  {
   "cell_type": "markdown",
   "metadata": {},
   "source": [
    "# Following Instructions\n",
    "\n",
    "## Activity 1\n",
    "\n",
    "Each group will be given a set of instructions. Follow the instructions and record each step that the group took.  Have your presenter post your group's description to the class discussion board on Canvas or on Slack. The idea is to let all the other students see the solutions groups came up with.\n",
    "\n",
    "## Activity 2\n",
    "\n",
    "Each group needs to sort itself (alphabetically, by age, weight, number of syllables in your name, whatever you want). Have your presenter post your group's description to the class discussion board on Canvas or on Slack."
   ]
  },
  {
   "cell_type": "code",
   "execution_count": null,
   "metadata": {},
   "outputs": [],
   "source": []
  }
 ],
 "metadata": {
  "kernelspec": {
   "display_name": "Python [default]",
   "language": "python",
   "name": "python3"
  },
  "language_info": {
   "codemirror_mode": {
    "name": "ipython",
    "version": 3
   },
   "file_extension": ".py",
   "mimetype": "text/x-python",
   "name": "python",
   "nbconvert_exporter": "python",
   "pygments_lexer": "ipython3",
   "version": "3.6.4"
  }
 },
 "nbformat": 4,
 "nbformat_minor": 2
}
