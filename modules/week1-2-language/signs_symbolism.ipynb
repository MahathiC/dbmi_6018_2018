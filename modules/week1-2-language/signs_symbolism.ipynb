{
 "cells": [
  {
   "cell_type": "code",
   "execution_count": null,
   "metadata": {},
   "outputs": [],
   "source": [
    "from IPython.display import YouTubeVideo\n",
    "from datetime import timedelta"
   ]
  },
  {
   "cell_type": "code",
   "execution_count": null,
   "metadata": {},
   "outputs": [],
   "source": [
    "YouTubeVideo(\"zO4cg5sf_Vw\")"
   ]
  },
  {
   "cell_type": "markdown",
   "metadata": {},
   "source": [
    "# Signs\n",
    "\n",
    "This notebook is drawn from *Once Upon an Algorithm* chapter 8.\n",
    "\n",
    "## There are Three Ways of Denoting Meaning with Signs\n",
    "\n",
    "### Icon\n",
    "\n",
    ">[A]n icon represents an object based on its similarity or likeness to the object. An example is a drawing of a person that represents the person by highlighting specific features. (Erwig, Martin. *Once Upon an Algorithm: How Stories Explain Computing* (The MIT Press) (p. 56). The MIT Press. Kindle Edition.) \n",
    "\n",
    "### Indices\n",
    "\n",
    ">Second, an index represents an object through some lawlike relationship that lets the viewer of the index infer the object through this relationship. An example is a weather vane from whose direction the wind direction can be inferred. Other examples are all kinds of gauges that have been engineered as indexes for different physical phenomena (temperature, pressure, speed, etc.). The saying “Where there is smoke, there is fire” is based on smoke being an index for fire. An index sign is determined by the object it signifies through the lawlike relationship between them. (Erwig, Martin. *Once Upon an Algorithm: How Stories Explain Computing* (The MIT Press) (p. 56). The MIT Press. Kindle Edition.)\n",
    "\n",
    "\n",
    "### Symbols\n",
    "\n",
    ">Third, a symbol represents an object by convention only; no likeness or lawlike connection is involved in the representation. Since the link between the signifier and the signified is completely arbitrary, the creator and the user of the sign must agree on the definition and interpretation of the sign for it to work. Most modern languages are symbolic. The fact that the word “tree” stands for a tree cannot be inferred but is a fact that has to be learned. Similarly, that “11” is a symbol for eleven as well as three and that the pebbles [in the story of Hansel and Grettel] are symbols for locations are conventions. (Erwig, Martin. *Once Upon an Algorithm: How Stories Explain Computing* (The MIT Press) (pp. 56-57). The MIT Press. Kindle Edition.) \n",
    "\n",
    "\n",
    "## Example\n",
    "\n",
    "Here are three ways of denoting sex, which are symbols, icons, and indices. Which are which?\n",
    "\n",
    "![female](https://upload.wikimedia.org/wikipedia/commons/thumb/6/66/Venus_symbol.svg/240px-Venus_symbol.svg.png)\n",
    "![male](https://upload.wikimedia.org/wikipedia/commons/thumb/b/b7/Mars_symbol.svg/240px-Mars_symbol.svg.png)\n",
    "\n",
    "\n",
    "![men vs women](https://upload.wikimedia.org/wikipedia/en/thumb/5/53/Restroom_symbols.svg/223px-Restroom_symbols.svg.png)\n",
    "\n",
    "![Binary Sex Coding](SexCoding.png)\n",
    "\n",
    "## Language and Symbols\n",
    "\n",
    "Most written language consists of symbols. Consider the word \"tree\"; it does not have any physical relationship to the object\n",
    "\n",
    "![A tree](https://upload.wikimedia.org/wikipedia/commons/e/eb/Ash_Tree_-_geograph.org.uk_-_590710.jpg)\n",
    "\n",
    "On the other hand, the Chinese character `ren`\n",
    "\n",
    "![ren](https://upload.wikimedia.org/wikipedia/commons/thumb/5/5c/Jan_ren.svg/240px-Jan_ren.svg.png)\n",
    "\n",
    "may be a sort of icon for\n",
    "\n",
    "![man walking](./man_walking.jpg)"
   ]
  },
  {
   "cell_type": "markdown",
   "metadata": {},
   "source": [
    "## Symbols, Language, and Programming\n",
    "\n",
    "Each language has its own set of symbols that have semantic meaning as well as grammars (syntax) that define how the symbols can be combined. This is true of programming languages as well as natural langagues. Languages may use the same symbols but assign different meaning to them. In Swedish, the number 6 is the symbol \"sex\", a symbol also used in English but for a very different meaning. In using a symbol, everyone has to agree to that symbols meaning. We saw this in our [peanut butter and jam example](./language_instructions.ipynb#Example:-Making-a-Sandwich) where the meaning of \"top\" of the bread was different. \n",
    "\n",
    "Symbols used in a programming language may have some relationship to symbols in common English usage (e.g. `def` to mark the beginning of a function \"definition\"). However, sometimes the symbols will have a very limited relationship to common English usage. For example, the colon (`:`) in Python marks the beginning of a code block (lines of code that belong together), while in English one of the colon's uses is \n",
    "\n",
    "> To announce, introduce, or direct attention to a list, a noun or noun phrase, a quotation, or an example/explanation. ([UNC Writing Center](https://writingcenter.unc.edu/tips-and-tools/semi-colons-colons-and-dashes/)).\n",
    "\n",
    "So I might find some relationship between a code block and a list, but it is weak. In languages like C/C++ and Java curly brackets (`{}`) are used to mark the beginning and end of code block, but I can't think of any regular use of these symbols in English.\n",
    "\n",
    "In the video below, Greg Wilson of Software Carpentry has an interesting warning about the mismatch between common words/symbols in programming and their common usage in English. \n",
    "\n",
    "In Python we have the symbl `int` which is used for a function that tries to convert an object to a Python Integer type, which is similar to but not identical to the mathematical concept of `Integer` ($\\mathbb{Z}$). Less well connected to mathematical language is the Python symbol `float` which is used for a function that tries to convert an object to a Python `Float` type which is something analogous to a a Real number ($\\mathbb{R}$) in mathematics."
   ]
  },
  {
   "cell_type": "code",
   "execution_count": null,
   "metadata": {},
   "outputs": [],
   "source": [
    "YouTubeVideo(\"1e26rp6qPbA\",\n",
    "             start=int(timedelta(hours=0, minutes=15, seconds=48).total_seconds()),\n",
    "             end = int(timedelta(hours=0, minutes=17, seconds=11).total_seconds()))"
   ]
  },
  {
   "cell_type": "code",
   "execution_count": null,
   "metadata": {},
   "outputs": [],
   "source": []
  }
 ],
 "metadata": {
  "kernelspec": {
   "display_name": "Python [default]",
   "language": "python",
   "name": "python3"
  },
  "language_info": {
   "codemirror_mode": {
    "name": "ipython",
    "version": 3
   },
   "file_extension": ".py",
   "mimetype": "text/x-python",
   "name": "python",
   "nbconvert_exporter": "python",
   "pygments_lexer": "ipython3",
   "version": "3.6.4"
  }
 },
 "nbformat": 4,
 "nbformat_minor": 2
}
