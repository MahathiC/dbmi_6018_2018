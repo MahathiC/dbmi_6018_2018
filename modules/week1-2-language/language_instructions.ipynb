{
 "cells": [
  {
   "cell_type": "code",
   "execution_count": null,
   "metadata": {},
   "outputs": [],
   "source": [
    "from IPython.display import YouTubeVideo"
   ]
  },
  {
   "cell_type": "markdown",
   "metadata": {},
   "source": [
    "# Language and Computing\n",
    "\n",
    "One of the greatest difficulties in computer programming is expressing what we want to be done in a manner that \n",
    "\n",
    "1. the computer understands and\n",
    "2. describes steps that will actually achieve the end result that you want.\n",
    "\n",
    "The early computers were just people. Now most computers are digital devices that we \"talk\" to similar to how we talk to \"normal\" people, but not quite. Think of programming as something akin to talking to a very literal four-year-old.\n",
    "\n",
    ">Far more precise language than ours is needed to program. To write in such a language, we need to know the correct words and their strict arrangements; and how to tease our intent apart and clothe it nicely as a program. (*Happy Learn Haskell Tutorial Vol 1*)\n",
    "\n",
    "## Example: Making a Sandwich\n",
    "\n",
    "Before we continue, let's watch this video about making a peanut butter and jam sandwich"
   ]
  },
  {
   "cell_type": "code",
   "execution_count": null,
   "metadata": {},
   "outputs": [],
   "source": [
    "YouTubeVideo(\"cDA3_5982h8\")"
   ]
  },
  {
   "cell_type": "markdown",
   "metadata": {},
   "source": [
    "In programming we use multiple \"tools\" to help us go from a general idea in our heads to an executable. In the next two exercises, we are going to be exploring first following instructions and then writing instructions."
   ]
  }
 ],
 "metadata": {
  "kernelspec": {
   "display_name": "Python [default]",
   "language": "python",
   "name": "python3"
  },
  "language_info": {
   "codemirror_mode": {
    "name": "ipython",
    "version": 3
   },
   "file_extension": ".py",
   "mimetype": "text/x-python",
   "name": "python",
   "nbconvert_exporter": "python",
   "pygments_lexer": "ipython3",
   "version": "3.6.4"
  }
 },
 "nbformat": 4,
 "nbformat_minor": 2
}
